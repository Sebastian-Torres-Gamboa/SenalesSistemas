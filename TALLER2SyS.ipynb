{
  "nbformat": 4,
  "nbformat_minor": 0,
  "metadata": {
    "colab": {
      "provenance": [],
      "include_colab_link": true
    },
    "kernelspec": {
      "name": "python3",
      "display_name": "Python 3"
    },
    "language_info": {
      "name": "python"
    }
  },
  "cells": [
    {
      "cell_type": "markdown",
      "metadata": {
        "id": "view-in-github",
        "colab_type": "text"
      },
      "source": [
        "<a href=\"https://colab.research.google.com/github/Sebastian-Torres-Gamboa/SenalesSistemas/blob/main/TALLER2SyS.ipynb\" target=\"_parent\"><img src=\"https://colab.research.google.com/assets/colab-badge.svg\" alt=\"Open In Colab\"/></a>"
      ]
    },
    {
      "cell_type": "markdown",
      "source": [
        "SEBASTIAN TORRES GAMBOA\n",
        "1122530252"
      ],
      "metadata": {
        "id": "aSrGVYdQNtcg"
      }
    },
    {
      "cell_type": "markdown",
      "source": [
        "#Punto 1:"
      ],
      "metadata": {
        "id": "UjfkDRKlN3co"
      }
    },
    {
      "cell_type": "markdown",
      "source": [
        "Explique las semejanzas y diferencias entre la serie de Fourier\n",
        "(exponencial, trigonom´etrica y compacta), la transformada\n",
        "de Fourier, transformada de Fourier en tiempo discreto\n",
        "(DTFT) y transformada discreta de Fourier (DFT). Considere\n",
        "las diferentes combinaciones entre: espectro continuo y\n",
        "discreto y se˜nal en tiempo continuo y discreto. Adem´as, consulte\n",
        "en qu´e consiste el algoritmo Fast Fourier Transform -\n",
        "(FFT) y su utilidad para el c´alculo de la transformada discreta\n",
        "de Fourier. Explique en detalle el algoritmo FFT y su\n",
        "costo computacional vs el de la transformada discreta."
      ],
      "metadata": {
        "id": "AIDxNnRZU5Yp"
      }
    },
    {
      "cell_type": "markdown",
      "source": [
        "Representaciones de Fourier para Análisis de Señales en el Dominio de la Frecuencia\n",
        "Serie de Fourier (Exponencial, Trigonométrica y Compacta)\n",
        "Tipo de señales: Analiza señales periódicas en tiempo continuo.\n",
        "\n",
        "Espectro: Discreto, compuesto por múltiplos de la frecuencia fundamental de la señal.\n",
        "\n",
        "Semejanzas entre formas:\n",
        "\n",
        "La forma exponencial es la base, mientras que las formas trigonométrica (senos/cosenos) y compacta (amplitud/fase) se derivan de ella.\n",
        "\n",
        "Diferencias:\n",
        "\n",
        "La trigonométrica emplea funciones sinusoidales reales.\n",
        "\n",
        "La exponencial utiliza exponenciales complejas.\n",
        "\n",
        "La compacta combina amplitud y fase en una expresión simplificada.\n",
        "\n",
        "Transformada de Fourier\n",
        "Tipo de señales: Diseñada para señales no periódicas en tiempo continuo.\n",
        "\n",
        "Espectro: Continuo, cubriendo todas las frecuencias posibles.\n",
        "\n",
        "Relación con la Serie de Fourier:\n",
        "\n",
        "Es una generalización de la Serie de Fourier para señales no periódicas. Si el período de una señal periódica tiende a infinito, su Serie de Fourier converge a la Transformada de Fourier.\n",
        "\n",
        "Diferencia clave:\n",
        "\n",
        "Mientras la Serie de Fourier maneja señales periódicas con espectro discreto, la Transformada de Fourier trabaja con señales no periódicas y genera un espectro continuo.\n",
        "\n",
        "Transformada de Fourier en Tiempo Discreto (DTFT)\n",
        "Tipo de señales: Aplicable a señales no periódicas en tiempo discreto.\n",
        "\n",
        "Espectro: Continuo y periódico (se repite cada\n",
        "2\n",
        "π\n",
        "2π radianes).\n",
        "\n",
        "Analogía:\n",
        "\n",
        "Equivalente discreto de la Transformada de Fourier, pero para señales muestreadas.\n",
        "\n",
        "Contraste:\n",
        "\n",
        "A diferencia de la Transformada de Fourier (tiempo continuo, espectro no periódico), la DTFT produce un espectro continuo y periódico debido a la naturaleza discreta de la señal.\n",
        "\n",
        "Transformada Discreta de Fourier (DFT)\n",
        "Tipo de señales: Usada para señales periódicas en tiempo discreto (o secuencias finitas tratadas como periódicas).\n",
        "\n",
        "Espectro: Discreto, calculado en frecuencias específicas.\n",
        "\n",
        "Relación con la DTFT:\n",
        "\n",
        "La DFT es una versión muestreada de la DTFT, evaluada en frecuencias discretas. Es esencial en el procesamiento digital de señales.\n",
        "\n",
        "Diferencia principal:\n",
        "\n",
        "La DFT opera sobre secuencias finitas y genera un espectro discreto, mientras que la DTFT puede manejar secuencias infinitas y produce un espectro continuo.\n",
        "\n",
        "Algoritmo FFT (Fast Fourier Transform)\n",
        "Naturaleza: No es una transformada independiente, sino un método eficiente para calcular la DFT.\n",
        "\n",
        "Aplicaciones clave:\n",
        "\n",
        "Fundamental en procesamiento digital de señales: compresión de audio/imagen, filtrado, análisis espectral, etc.\n",
        "\n",
        "Funcionamiento:\n",
        "\n",
        "Basado en la estrategia \"divide y vencerás\", descompone la DFT en subproblemas más pequeños.\n",
        "\n",
        "Explota simetrías y periodicidades en las raíces complejas de la unidad.\n",
        "\n",
        "Implementaciones comunes: radix-2 (para\n",
        "N\n",
        "N potencias de 2) o radix-4.\n",
        "\n",
        "Comparación de Costo Computacional\n",
        "DFT tradicional:\n",
        "\n",
        "Complejidad\n",
        "O\n",
        "(\n",
        "N\n",
        "2\n",
        ")\n",
        "O(N\n",
        "2\n",
        " ) (ejemplo:\n",
        "N\n",
        "=\n",
        "1024\n",
        "N=1024 requiere ~1 millón de operaciones).\n",
        "\n",
        "FFT:\n",
        "\n",
        "Reduce la complejidad a\n",
        "O\n",
        "(\n",
        "N\n",
        "log\n",
        "⁡\n",
        "N\n",
        ")\n",
        "O(NlogN) (ejemplo:\n",
        "N\n",
        "=\n",
        "1024\n",
        "N=1024 necesita ~10,240 operaciones).\n",
        "\n",
        "Impacto:\n",
        "\n",
        "La FFT acelera drásticamente el cálculo, permitiendo aplicaciones en tiempo real para grandes conjuntos de datos."
      ],
      "metadata": {
        "id": "l4a-Tc6HQHdx"
      }
    },
    {
      "cell_type": "markdown",
      "source": [
        "#Punto 2:"
      ],
      "metadata": {
        "id": "6MqQYrF_QJOY"
      }
    },
    {
      "cell_type": "markdown",
      "source": [
        "Encuentre la función de densidad espectral (transformada de Fourier) para las siguientes señales (sin aplicar propiedades):\n",
        "\n",
        "$$\n",
        "\\text{a) } x(t) = e^{-a|t|}, \\quad a \\in \\mathbb{R}^{+}\n",
        "$$\n",
        "\n",
        "$$\n",
        "\\text{b) } x(t) = \\cos(w_c t), \\quad w_c \\in \\mathbb{R}\n",
        "$$\n",
        "\n",
        "$$\n",
        "\\text{c) } x(t) = \\sin(w_s t), \\quad w_s \\in \\mathbb{R}\n",
        "$$\n",
        "\n",
        "$$\n",
        "\\text{d) } x(t) = f(t)\\cos(w_c t), \\quad w_c \\in \\mathbb{R}, \\quad f(t) \\in \\mathbb{R} \\text{ o } \\mathbb{C}\n",
        "$$\n",
        "\n",
        "$$\n",
        "\\text{e) } x(t) = e^{-a|t|^2}, \\quad a \\in \\mathbb{R}^{+}\n",
        "$$\n",
        "\n",
        "$$\n",
        "\\text{f) } x(t) = A \\cdot \\text{Arct}_d(t), \\quad A, d \\in \\mathbb{R}\n",
        "$$\n"
      ],
      "metadata": {
        "id": "9Q7xMLkFVDo5"
      }
    },
    {
      "cell_type": "markdown",
      "source": [
        "calcular la transformada de Fourier $X(\\omega)$ para cada una de las señales $x(t)$ dadas, sin usar propiedades de la transformada de Fourier. La definición de la transformada de Fourier para una señal continua en el tiempo $x(t)$ es:\n",
        "\n",
        "$$ X(\\omega) = \\int_{-\\infty}^{\\infty} x(t) e^{-j\\omega t} dt $$\n",
        "\n",
        "Donde:\n",
        "\n",
        "$X(\\omega)$ es la transformada de Fourier de $x(t)$.\n",
        "$\\omega$ es la frecuencia angular en radianes por segundo.\n",
        "$j$ es la unidad imaginaria ($\\sqrt{-1}$).\n",
        "Aquí te presento cómo abordar cada inciso, aplicando la definición de la transformada de Fourier:\n",
        "\n",
        "a) $x(t) = e^{-a|t|}, \\quad a \\in \\mathbb{R}^{+}$$x(t) = e^{-a|t|}, \\quad a \\in \\mathbb{R}^{+}$\n",
        "\n",
        "Necesitamos evaluar las dos integrales que establecimos: $$ X(\\omega) = \\int_{-\\infty}^{0} e^{(a-j\\omega)t} dt + \\int_{0}^{\\infty} e^{-(a+j\\omega)t} dt $$\n",
        "\n",
        "Para la primera integral: $$ \\int_{-\\infty}^{0} e^{(a-j\\omega)t} dt = \\left[ \\frac{e^{(a-j\\omega)t}}{a-j\\omega} \\right]_{-\\infty}^{0} $$ Dado que $a > 0$$a > 0$, cuando $t \\to -\\infty$$t \\to -\\infty$, $e^{(a-j\\omega)t} \\to 0$$e^{(a-j\\omega)t} \\to 0$. $$ = \\frac{e^0}{a-j\\omega} - 0 = \\frac{1}{a-j\\omega} $$\n",
        "\n",
        "Para la segunda integral: $$ \\int_{0}^{\\infty} e^{-(a+j\\omega)t} dt = \\left[ \\frac{e^{-(a+j\\omega)t}}{-(a+j\\omega)} \\right]_{0}^{\\infty} $$ Dado que $a > 0$$a > 0$, cuando $t \\to \\infty$$t \\to \\infty$, $e^{-(a+j\\omega)t} \\to 0$$e^{-(a+j\\omega)t} \\to 0$. $$ = 0 - \\frac{e^0}{-(a+j\\omega)} = \\frac{1}{a+j\\omega} $$\n",
        "\n",
        "Sumando los dos resultados: $$ X(\\omega) = \\frac{1}{a-j\\omega} + \\frac{1}{a+j\\omega} = \\frac{a+j\\omega + a-j\\omega}{(a-j\\omega)(a+j\\omega)} = \\frac{2a}{a^2 + \\omega^2} $$\n",
        "\n",
        "Entonces, la Transformada de Fourier de $e^{-a|t|}$$e^{-a|t|}$ es $X(\\omega) = \\frac{2a}{a^2 + \\omega^2}$.\n",
        "\n",
        "b) $x(t) = \\cos(w_c t), \\quad w_c \\in \\mathbb{R}$$x(t) = \\cos(w_c t), \\quad w_c \\in \\mathbb{R}$\n",
        "\n",
        "Tenemos: $$ X(\\omega) = \\frac{1}{2} \\int_{-\\infty}^{\\infty} e^{j(w_c - \\omega)t} dt + \\frac{1}{2} \\int_{-\\infty}^{\\infty} e^{-j(w_c + \\omega)t} dt $$ Sabemos que $\\int_{-\\infty}^{\\infty} e^{j\\alpha t} dt = 2\\pi \\delta(\\alpha)$\n",
        "\n",
        "Entonces, la primera integral es: $\\int_{-\\infty}^{\\infty} e^{j(w_c - \\omega)t} dt = 2\\pi \\delta(w_c - \\omega) = 2\\pi \\delta(\\omega - w_c)$.\n",
        "\n",
        "Y la segunda integral es $\\int_{-\\infty}^{\\infty} e^{-j(w_c + \\omega)t} dt = \\int_{-\\infty}^{\\infty} e^{j(-(w_c + \\omega))t} dt = 2\\pi \\delta(-(w_c + \\omega)) = 2\\pi \\delta(w_c + \\omega) = 2\\pi \\delta(\\omega + w_c)$.\n",
        "\n",
        "Sustituyendo de nuevo: $$ X(\\omega) = \\frac{1}{2} (2\\pi \\delta(\\omega - w_c)) + \\frac{1}{2} (2\\pi \\delta(\\omega + w_c)) = \\pi \\delta(\\omega - w_c) + \\pi \\delta(\\omega + w_c) $$ Entonces, la Transformada de Fourier de $\\cos(w_c t)$ es $X(\\omega) = \\pi (\\delta(\\omega - w_c) + \\delta(\\omega + w_c))$.\n",
        "\n",
        "c) $x(t) = \\sin(w_s t), \\quad w_s \\in \\mathbb{R}$$x(t) = \\sin(w_s t), \\quad w_s \\in \\mathbb{R}$\n",
        "\n",
        "Tenemos: $$ X(\\omega) = \\frac{1}{2j} \\int_{-\\infty}^{\\infty} e^{j(w_s - \\omega)t} dt - \\frac{1}{2j} \\int_{-\\infty}^{\\infty} e^{-j(w_s + \\omega)t} dt $$$$ X(\\omega) = \\frac{1}{2j} \\int_{-\\infty}^{\\infty} e^{j(w_s - \\omega)t} dt - \\frac{1}{2j} \\int_{-\\infty}^{\\infty} e^{-j(w_s + \\omega)t} dt $$ Usando la misma propiedad que en la parte b): La primera integral es $\\int_{-\\infty}^{\\infty} e^{j(w_s - \\omega)t} dt = 2\\pi \\delta(w_s - \\omega) = 2\\pi \\delta(\\omega - w_s)$$\\int_{-\\infty}^{\\infty} e^{j(w_s - \\omega)t} dt = 2\\pi \\delta(w_s - \\omega) = 2\\pi \\delta(\\omega - w_s)$. La segunda integral es $\\int_{-\\infty}^{\\infty} e^{-j(w_s + \\omega)t} dt = 2\\pi \\delta(\\omega + w_s)$$\\int_{-\\infty}^{\\infty} e^{-j(w_s + \\omega)t} dt = 2\\pi \\delta(\\omega + w_s)$.\n",
        "\n",
        "Sustituyendo de nuevo: $$ X(\\omega) = \\frac{1}{2j} (2\\pi \\delta(\\omega - w_s)) - \\frac{1}{2j} (2\\pi \\delta(\\omega + w_s)) = \\frac{\\pi}{j} \\delta(\\omega - w_s) - \\frac{\\pi}{j} \\delta(\\omega + w_s) $$$$ X(\\omega) = \\frac{1}{2j} (2\\pi \\delta(\\omega - w_s)) - \\frac{1}{2j} (2\\pi \\delta(\\omega + w_s)) = \\frac{\\pi}{j} \\delta(\\omega - w_s) - \\frac{\\pi}{j} \\delta(\\omega + w_s) $$ Dado que $\\frac{1}{j} = -j$$\\frac{1}{j} = -j$: $$ X(\\omega) = -j\\pi \\delta(\\omega - w_s) + j\\pi \\delta(\\omega + w_s) = j\\pi (\\delta(\\omega + w_s) - \\delta(\\omega - w_s)) $$$$ X(\\omega) = -j\\pi \\delta(\\omega - w_s) + j\\pi \\delta(\\omega + w_s) = j\\pi (\\delta(\\omega + w_s) - \\delta(\\omega - w_s)) $$ Entonces, la Transformada de Fourier de $\\sin(w_s t)$$\\sin(w_s t)$ es $X(\\omega) = j\\pi (\\delta(\\omega + w_s) - \\delta(\\omega - w_s))$$X(\\omega) = j\\pi (\\delta(\\omega + w_s) - \\delta(\\omega - w_s))$.\n",
        "\n",
        "d) $x(t) = f(t)\\cos(w_c t), \\quad w_c \\in \\mathbb{R}, \\quad f(t) \\in \\mathbb{R} \\text{ o } \\mathbb{C}$$x(t) = f(t)\\cos(w_c t), \\quad w_c \\in \\mathbb{R}, \\quad f(t) \\in \\mathbb{R} \\text{ o } \\mathbb{C}$\n",
        "\n",
        "Tenemos: $$ X(\\omega) = \\frac{1}{2} \\int_{-\\infty}^{\\infty} f(t) e^{j(w_c - \\omega)t} dt + \\frac{1}{2} \\int_{-\\infty}^{\\infty} f(t) e^{-j(w_c + \\omega)t} dt $$$$ X(\\omega) = \\frac{1}{2} \\int_{-\\infty}^{\\infty} f(t) e^{j(w_c - \\omega)t} dt + \\frac{1}{2} \\int_{-\\infty}^{\\infty} f(t) e^{-j(w_c + \\omega)t} dt $$ Sea $F(\\omega)$$F(\\omega)$ la Transformada de Fourier de $f(t)$$f(t)$: $F(\\omega) = \\int_{-\\infty}^{\\infty} f(t) e^{-j\\omega t} dt$$F(\\omega) = \\int_{-\\infty}^{\\infty} f(t) e^{-j\\omega t} dt$. La primera integral se puede reescribir como: $$ \\int_{-\\infty}^{\\infty} f(t) e^{-j(\\omega - w_c)t} dt $$$$ \\int_{-\\infty}^{\\infty} f(t) e^{-j(\\omega - w_c)t} dt $$ Esta es la Transformada de Fourier de $f(t)$$f(t)$ evaluada en la frecuencia $\\omega - w_c$$\\omega - w_c$, que es $F(\\omega - w_c)$$F(\\omega - w_c)$.\n",
        "\n",
        "La segunda integral se puede reescribir como: $$ \\int_{-\\infty}^{\\infty} f(t) e^{-j(\\omega + w_c)t} dt $$$$ \\int_{-\\infty}^{\\infty} f(t) e^{-j(\\omega + w_c)t} dt $$ Esta es la Transformada de Fourier de $f(t)$$f(t)$ evaluada en la frecuencia $\\omega + w_c$$\\omega + w_c$, que es $F(\\omega + w_c)$$F(\\omega + w_c)$.\n",
        "\n",
        "Sustituyendo de nuevo: $$ X(\\omega) = \\frac{1}{2} F(\\omega - w_c) + \\frac{1}{2} F(\\omega + w_c) $$$$ X(\\omega) = \\frac{1}{2} F(\\omega - w_c) + \\frac{1}{2} F(\\omega + w_c) $$ Entonces, la Transformada de Fourier de $f(t)\\cos(w_c t)$$f(t)\\cos(w_c t)$ es $X(\\omega) = \\frac{1}{2} [F(\\omega - w_c) + F(\\omega + w_c)]$$X(\\omega) = \\frac{1}{2} [F(\\omega - w_c) + F(\\omega + w_c)]$, donde $F(\\omega)$$F(\\omega)$ es la Transformada de Fourier de $f(t)$$f(t)$.\n",
        "\n",
        "e) $x(t) = e^{-a|t|^2}, \\quad a \\in \\mathbb{R}^{+}$$x(t) = e^{-a|t|^2}, \\quad a \\in \\mathbb{R}^{+}$\n",
        "\n",
        "Necesitamos evaluar: $$ X(\\omega) = \\int_{-\\infty}^{\\infty} e^{-at^2} e^{-j\\omega t} dt = \\int_{-\\infty}^{\\infty} e^{-at^2 - j\\omega t} dt $$$$ X(\\omega) = \\int_{-\\infty}^{\\infty} e^{-at^2} e^{-j\\omega t} dt = \\int_{-\\infty}^{\\infty} e^{-at^2 - j\\omega t} dt $$ Para resolver esto usando la fórmula de la integral Gaussiana, completamos el cuadrado en el exponente: $$ -at^2 - j\\omega t = -a \\left( t^2 + \\frac{j\\omega}{a} t \\right) $$$$ -at^2 - j\\omega t = -a \\left( t^2 + \\frac{j\\omega}{a} t \\right) $$ Para completar el cuadrado de $t^2 + \\frac{j\\omega}{a} t$$t^2 + \\frac{j\\omega}{a} t$, sumamos y restamos $(\\frac{j\\omega}{2a})^2$$(\\frac{j\\omega}{2a})^2$: $$ t^2 + \\frac{j\\omega}{a} t + \\left(\\frac{j\\omega}{2a}\\right)^2 - \\left(\\frac{j\\omega}{2a}\\right)^2 = \\left( t + \\frac{j\\omega}{2a} \\right)^2 - \\frac{(j\\omega)^2}{4a^2} = \\left( t + \\frac{j\\omega}{2a} \\right)^2 + \\frac{\\omega^2}{4a^2} $$$$ t^2 + \\frac{j\\omega}{a} t + \\left(\\frac{j\\omega}{2a}\\right)^2 - \\left(\\frac{j\\omega}{2a}\\right)^2 = \\left( t + \\frac{j\\omega}{2a} \\right)^2 - \\frac{(j\\omega)^2}{4a^2} = \\left( t + \\frac{j\\omega}{2a} \\right)^2 + \\frac{\\omega^2}{4a^2} $$ Entonces el exponente se convierte en: $$ -a \\left[ \\left( t + \\frac{j\\omega}{2a} \\right)^2 + \\frac{\\omega^2}{4a^2} \\right] = -a \\left( t + \\frac{j\\omega}{2a} \\right)^2 - \\frac{a\\omega^2}{4a^2} = -a \\left( t + \\frac{j\\omega}{2a} \\right)^2 - \\frac{\\omega^2}{4a} $$$$ -a \\left[ \\left( t + \\frac{j\\omega}{2a} \\right)^2 + \\frac{\\omega^2}{4a^2} \\right] = -a \\left( t + \\frac{j\\omega}{2a} \\right)^2 - \\frac{a\\omega^2}{4a^2} = -a \\left( t + \\frac{j\\omega}{2a} \\right)^2 - \\frac{\\omega^2}{4a} $$ Ahora la integral es: $$ X(\\omega) = \\int_{-\\infty}^{\\infty} e^{-a \\left( t + \\frac{j\\omega}{2a} \\right)^2 - \\frac{\\omega^2}{4a}} dt = e^{-\\frac{\\omega^2}{4a}} \\int_{-\\infty}^{\\infty} e^{-a \\left( t + \\frac{j\\omega}{2a} \\right)^2} dt $$$$ X(\\omega) = \\int_{-\\infty}^{\\infty} e^{-a \\left( t + \\frac{j\\omega}{2a} \\right)^2 - \\frac{\\omega^2}{4a}} dt = e^{-\\frac{\\omega^2}{4a}} \\int_{-\\infty}^{\\infty} e^{-a \\left( t + \\frac{j\\omega}{2a} \\right)^2} dt $$ Sea $\\tau = t + \\frac{j\\omega}{2a}$$\\tau = t + \\frac{j\\omega}{2a}$. Entonces $d\\tau = dt$$d\\tau = dt$. Los límites de integración permanecen de $-\\infty$$-\\infty$ a $\\infty$$\\infty$ en el plano complejo. $$ X(\\omega) = e^{-\\frac{\\omega^2}{4a}} \\int_{-\\infty}^{\\infty} e^{-a \\tau^2} d\\tau $$$$ X(\\omega) = e^{-\\frac{\\omega^2}{4a}} \\int_{-\\infty}^{\\infty} e^{-a \\tau^2} d\\tau $$ Esta es una integral Gaussiana estándar con $b=a$$b=a$. $$ \\int_{-\\infty}^{\\infty} e^{-a \\tau^2} d\\tau = \\sqrt{\\frac{\\pi}{a}} $$$$ \\int_{-\\infty}^{\\infty} e^{-a \\tau^2} d\\tau = \\sqrt{\\frac{\\pi}{a}} $$ Entonces, $$ X(\\omega) = e^{-\\frac{\\omega^2}{4a}} \\sqrt{\\frac{\\pi}{a}} = \\sqrt{\\frac{\\pi}{a}} e^{-\\frac{\\omega^2}{4a}} $$$$ X(\\omega) = e^{-\\frac{\\omega^2}{4a}} \\sqrt{\\frac{\\pi}{a}} = \\sqrt{\\frac{\\pi}{a}} e^{-\\frac{\\omega^2}{4a}} $$ Entonces, la Transformada de Fourier de $e^{-at^2}$$e^{-at^2}$ es $X(\\omega) = \\sqrt{\\frac{\\pi}{a}} e^{-\\frac{\\omega^2}{4a}}$$X(\\omega) = \\sqrt{\\frac{\\pi}{a}} e^{-\\frac{\\omega^2}{4a}}$.\n",
        "\n",
        "f) $x(t) = A \\cdot \\text{Arct}_d(t), \\quad A, d \\in \\mathbb{R}$$x(t) = A \\cdot \\text{Arct}_d(t), \\quad A, d \\in \\mathbb{R}$"
      ],
      "metadata": {
        "id": "ZKN9FvxpWexa"
      }
    },
    {
      "cell_type": "markdown",
      "source": [
        "#Punto 3:"
      ],
      "metadata": {
        "id": "xDoVWMibWhNZ"
      }
    },
    {
      "cell_type": "markdown",
      "source": [
        "Aplique las propiedades de la transformada de Fourier para resolver:\n",
        "\n",
        "$$\n",
        "\\text{a) } \\mathcal{F}\\{e^{-jw_1 t} \\cos(w_c t)\\}, \\quad w_1, w_c \\in \\mathbb{R}\n",
        "$$\n",
        "\n",
        "$$\n",
        "\\text{b) } \\mathcal{F}\\{u(t)\\cos^2(w_c t)\\}, \\quad w_c \\in \\mathbb{R}\n",
        "$$\n",
        "\n",
        "$$\n",
        "\\text{c) } \\mathcal{F}^{-1}\\left\\{ \\frac{7}{(w + 6w + 45)} \\right\\} * \\frac{10}{(8 + jw/3)^2}\n",
        "$$\n",
        "\n",
        "$$\n",
        "\\text{d) } \\mathcal{F}\\{3t^3\\}\n",
        "$$\n",
        "\n",
        "$$\n",
        "\\text{e) } \\frac{B}{T} \\sum_{n=-\\infty}^{+\\infty} \\left( \\frac{1}{a^2 + (w - n\\omega_o)^2} + \\frac{1}{a + j(w - n\\omega_o)} \\right),\n",
        "$$\n",
        "\n",
        "donde:$$ ( n \\in \\{0, \\pm1, \\pm2, \\dots\\}, \\quad \\omega_o = \\frac{2\\pi}{T}, \\quad B, T \\in \\mathbb{R}^+ )$$"
      ],
      "metadata": {
        "id": "tcLbCVAnYjXh"
      }
    }
  ]
}